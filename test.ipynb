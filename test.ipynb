{
 "cells": [
  {
   "cell_type": "code",
   "execution_count": 24,
   "id": "63e8a0e1",
   "metadata": {},
   "outputs": [],
   "source": [
    "import os\n",
    "from dotenv import load_dotenv\n",
    "import google.generativeai as genai\n",
    "\n",
    "load_dotenv()\n",
    "\n",
    "api_key = os.getenv(\"GOOGLE_API_KEY\")\n",
    "\n",
    "if not api_key:\n",
    "    raise ValueError(\"GOOGLE_API_KEY not found in .env file\")\n",
    "\n",
    "genai.configure(api_key=api_key)\n",
    "\n"
   ]
  },
  {
   "cell_type": "code",
   "execution_count": 25,
   "id": "da71b9a2",
   "metadata": {},
   "outputs": [],
   "source": [
    "model = genai.GenerativeModel(\"models/gemini-1.5-pro-latest\")\n"
   ]
  },
  {
   "cell_type": "code",
   "execution_count": null,
   "id": "4be08e38",
   "metadata": {},
   "outputs": [],
   "source": [
    "response = model.generate_content(\"Give me some advice about a test match\")\n",
    "print(response.text)"
   ]
  },
  {
   "cell_type": "code",
   "execution_count": null,
   "id": "d7fb988e",
   "metadata": {},
   "outputs": [
    {
     "name": "stdout",
     "output_type": "stream",
     "text": [
      "Response from the model:\n",
      "Here are some Italian restaurant name ideas, broken down by category:\n",
      "\n",
      "**Classic & Elegant:**\n",
      "\n",
      "* Bella Notte (Beautiful Night)\n",
      "* La Dolce Vita (The Sweet Life)\n",
      "* Il Ristorante (The Restaurant)\n",
      "* Trattoria Romana (Roman Trattoria)\n",
      "* Osteria del Gusto (Osteria of Taste)\n",
      "* Villa Toscana (Tuscan Villa)\n",
      "* Firenze Cucina (Florence Kitchen)\n",
      "* Capriccio Italiano (Italian Caprice)\n",
      "\n",
      "**Rus\n",
      "I want to open a restaurant that serves Italian food. What are some good names for it?\n"
     ]
    }
   ],
   "source": [
    "#Prompt engineering example\n",
    "# This example demonstrates how to use a template with the Gemini model.\n",
    "template = \"I want to open a restaurant that serves {cuisine} food. What are some good names for it?\"\n",
    "filled_prompt = template.format(cuisine=\"Italian\")\n",
    "\n",
    "generation_config = {\n",
    "    \"max_output_tokens\": 100  \n",
    "}\n",
    "\n",
    "response = model.generate_content(\n",
    "    filled_prompt,\n",
    "    generation_config=generation_config\n",
    ")\n",
    "# print(\"Response from the model:\")\n",
    "# print(response.text)\n",
    "# print(filled_prompt)"
   ]
  },
  {
   "cell_type": "code",
   "execution_count": 56,
   "id": "399259c6",
   "metadata": {},
   "outputs": [
    {
     "name": "stdout",
     "output_type": "stream",
     "text": [
      "{'menu': ['Tacos al pastor',\n",
      "          'Enchiladas verdes',\n",
      "          'Chiles rellenos',\n",
      "          'Mole poblano',\n",
      "          'Guacamole and chips'],\n",
      " 'restaurant_name': 'Azulejo'}\n"
     ]
    }
   ],
   "source": [
    "# simple sequential chain example\n",
    "\n",
    "import pprint\n",
    "generation_config = {\n",
    "    \"temperature\": 0.9,          # increase randomness\n",
    "    \"top_p\": 0.95,               # explore broader token set\n",
    "    \"max_output_tokens\": 100     # allow more space for output variety\n",
    "}\n",
    "\n",
    "\n",
    "cuisine = \"Mexican\"\n",
    "prompt_name = f\"Suggest a unique and creative name for a high-end Mexican restaurant. Only return one name, no explanation.\"\n",
    "\n",
    "# step 1: Generate restaurant name\n",
    "step1_response = model.generate_content(prompt_name, generation_config=generation_config)\n",
    "restaurant_name = step1_response.text.strip()\n",
    "\n",
    "# Step 2: Generate menu for the given restaurant\n",
    "prompt_menu = f\"Suggest 5 popular {cuisine} dishes for the restaurant named {restaurant_name}. Return them as a plain comma-separated list, no explanations.\"\n",
    "\n",
    "step2_response = model.generate_content(prompt_menu, generation_config=generation_config)\n",
    "menu_items = [item.strip() for item in step2_response.text.strip().split(\",\")]\n",
    "\n",
    "# Final structured output\n",
    "structured_output = {\n",
    "    \"restaurant_name\": restaurant_name,\n",
    "    \"menu\": menu_items\n",
    "}\n",
    "\n",
    "pprint.pprint(structured_output)\n",
    "\n",
    "\n"
   ]
  },
  {
   "cell_type": "code",
   "execution_count": null,
   "id": "72883791",
   "metadata": {},
   "outputs": [],
   "source": [
    "''' \n",
    "Sequential Chain = Output of one step → Input of next\n",
    "\n",
    "LangChain provides abstraction (LLMChain, SimpleSequentialChain)\n",
    "\n",
    "Gemini doesn’t support it natively, but you can implement it manually\n",
    "\n",
    "'''"
   ]
  },
  {
   "cell_type": "code",
   "execution_count": null,
   "id": "73e27e35",
   "metadata": {},
   "outputs": [],
   "source": []
  }
 ],
 "metadata": {
  "kernelspec": {
   "display_name": "myenv",
   "language": "python",
   "name": "python3"
  },
  "language_info": {
   "codemirror_mode": {
    "name": "ipython",
    "version": 3
   },
   "file_extension": ".py",
   "mimetype": "text/x-python",
   "name": "python",
   "nbconvert_exporter": "python",
   "pygments_lexer": "ipython3",
   "version": "3.10.12"
  }
 },
 "nbformat": 4,
 "nbformat_minor": 5
}
